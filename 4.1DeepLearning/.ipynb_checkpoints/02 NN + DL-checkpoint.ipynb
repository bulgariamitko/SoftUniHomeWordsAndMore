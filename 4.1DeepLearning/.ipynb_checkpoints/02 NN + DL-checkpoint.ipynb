{
 "cells": [
  {
   "cell_type": "code",
   "execution_count": 4,
   "metadata": {
    "collapsed": true
   },
   "outputs": [],
   "source": [
    "%matplotlib inline\n",
    "import matplotlib.pyplot as plt\n",
    "import tensorflow as tf"
   ]
  },
  {
   "cell_type": "code",
   "execution_count": 5,
   "metadata": {
    "collapsed": false
   },
   "outputs": [
    {
     "name": "stdout",
     "output_type": "stream",
     "text": [
      "Step 0\n",
      "[[ 0.26894167]\n",
      " [ 0.50097865]\n",
      " [ 0.48343664]\n",
      " [ 0.71862179]]\n",
      "Step 500\n",
      "[[  8.66338834e-10]\n",
      " [  8.75853526e-04]\n",
      " [  8.75625759e-04]\n",
      " [  9.98873651e-01]]\n",
      "Step 1000\n",
      "[[  3.46256045e-11]\n",
      " [  2.99638894e-04]\n",
      " [  2.99561216e-04]\n",
      " [  9.99614596e-01]]\n",
      "Step 1500\n",
      "[[  4.48026859e-12]\n",
      " [  1.51575194e-04]\n",
      " [  1.51535583e-04]\n",
      " [  9.99805033e-01]]\n",
      "Step 2000\n",
      "[[  9.43163191e-13]\n",
      " [  9.01826425e-05]\n",
      " [  9.01592575e-05]\n",
      " [  9.99884009e-01]]\n",
      "Step 2500\n",
      "[[  2.57996017e-13]\n",
      " [  5.85423913e-05]\n",
      " [  5.85272101e-05]\n",
      " [  9.99924660e-01]]\n",
      "Step 3000\n",
      "[[  8.28307624e-14]\n",
      " [  4.00874633e-05]\n",
      " [  4.00769932e-05]\n",
      " [  9.99948502e-01]]\n",
      "Step 3500\n",
      "[[  2.95503334e-14]\n",
      " [  2.84311009e-05]\n",
      " [  2.84237267e-05]\n",
      " [  9.99963403e-01]]\n",
      "Step 4000\n",
      "[[  1.13384957e-14]\n",
      " [  2.06601926e-05]\n",
      " [  2.06548357e-05]\n",
      " [  9.99973416e-01]]\n",
      "Step 4500\n",
      "[[  4.58230213e-15]\n",
      " [  1.52748034e-05]\n",
      " [  1.52708417e-05]\n",
      " [  9.99980330e-01]]\n",
      "Step 5000\n",
      "[[  1.92341531e-15]\n",
      " [  1.14375725e-05]\n",
      " [  1.14346067e-05]\n",
      " [  9.99985337e-01]]\n",
      "Step 5500\n",
      "[[  8.30206426e-16]\n",
      " [  8.64301455e-06]\n",
      " [  8.64075537e-06]\n",
      " [  9.99988914e-01]]\n",
      "Step 6000\n",
      "[[  3.65991184e-16]\n",
      " [  6.57825740e-06]\n",
      " [  6.57655164e-06]\n",
      " [  9.99991536e-01]]\n",
      "Step 6500\n",
      "[[  1.63933208e-16]\n",
      " [  5.03338242e-06]\n",
      " [  5.03206775e-06]\n",
      " [  9.99993563e-01]]\n",
      "Step 7000\n",
      "[[  7.43179098e-17]\n",
      " [  3.86563443e-06]\n",
      " [  3.86460988e-06]\n",
      " [  9.99994993e-01]]\n",
      "Step 7500\n",
      "[[  3.40082173e-17]\n",
      " [  2.97874726e-06]\n",
      " [  2.97796919e-06]\n",
      " [  9.99996185e-01]]\n",
      "Step 8000\n",
      "[[  1.56710972e-17]\n",
      " [  2.29878492e-06]\n",
      " [  2.29818875e-06]\n",
      " [  9.99997020e-01]]\n",
      "Step 8500\n",
      "[[  7.26553098e-18]\n",
      " [  1.77931770e-06]\n",
      " [  1.77885283e-06]\n",
      " [  9.99997735e-01]]\n",
      "Step 9000\n",
      "[[  3.38013916e-18]\n",
      " [  1.37486415e-06]\n",
      " [  1.37452071e-06]\n",
      " [  9.99998212e-01]]\n",
      "Step 9500\n",
      "[[  1.58487402e-18]\n",
      " [  1.07446488e-06]\n",
      " [  1.07417804e-06]\n",
      " [  9.99998569e-01]]\n"
     ]
    },
    {
     "data": {
      "text/plain": [
       "[<matplotlib.lines.Line2D at 0x7f60101bf438>]"
      ]
     },
     "execution_count": 5,
     "metadata": {},
     "output_type": "execute_result"
    },
    {
     "data": {
      "image/png": "[encoded data removed]",
      "text/plain": [
       "<matplotlib.figure.Figure at 0x7f6013ed0898>"
      ]
     },
     "metadata": {},
     "output_type": "display_data"
    }
   ],
   "source": [
    "x_input = tf.placeholder(tf.float32, shape = [4, 2], name = \"input\")\n",
    "y_output = tf.placeholder(tf.float32, shape = [4, 1], name = \"output\")\n",
    "weights = tf.Variable(tf.random_uniform([2, 1], -1, 1), name = \"weights\")\n",
    "bias = tf.Variable(tf.zeros([1]), name = \"bias\")\n",
    "hypothesis = tf.sigmoid(tf.matmul(x_input, weights) + bias)\n",
    "cost = tf.reduce_mean(((y_output * tf.log(hypothesis)) + ((1 - y_output) * tf.log(1.0 - hypothesis)) ) * -1)\n",
    "train_step = tf.train.AdamOptimizer(1).minimize(cost)\n",
    "AND_X = [[0, 0], [0, 1], [1, 0], [1, 1]]\n",
    "AND_Y = [[0], [0], [0], [1]]\n",
    "\n",
    "init = tf.global_variables_initializer()\n",
    "sess = tf.Session()\n",
    "sess.run(init)\n",
    "costs = []\n",
    "for i in range(10000):\n",
    "    sess.run(train_step, feed_dict = {x_input: AND_X, y_output: AND_Y})\n",
    "    if i % 500 == 0:\n",
    "        print(\"Step \" + str(i))\n",
    "        print(sess.run(hypothesis, feed_dict = {x_input: AND_X, y_output: AND_Y}))\n",
    "        current_cost = sess.run(cost, feed_dict = {x_input: AND_X, y_output: AND_Y})\n",
    "        costs.append(current_cost)\n",
    "plt.plot(range(len(costs)), costs)"
   ]
  },
  {
   "cell_type": "code",
   "execution_count": 6,
   "metadata": {
    "collapsed": false
   },
   "outputs": [
    {
     "data": {
      "text/plain": [
       "[0.49983644,\n",
       " 0.00071980839,\n",
       " 0.00024619332,\n",
       " 0.00012452459,\n",
       " 7.4092291e-05,\n",
       " 4.8102516e-05,\n",
       " 3.2917396e-05,\n",
       " 2.3365392e-05,\n",
       " 1.698752e-05,\n",
       " 1.2546884e-05]"
      ]
     },
     "execution_count": 6,
     "metadata": {},
     "output_type": "execute_result"
    }
   ],
   "source": [
    "costs[:10]"
   ]
  },
  {
   "cell_type": "code",
   "execution_count": 7,
   "metadata": {
    "collapsed": true
   },
   "outputs": [],
   "source": [
    "### tf example"
   ]
  },
  {
   "cell_type": "code",
   "execution_count": 8,
   "metadata": {
    "collapsed": false
   },
   "outputs": [
    {
     "name": "stdout",
     "output_type": "stream",
     "text": [
      "Extracting MNIST_data/train-images-idx3-ubyte.gz\n",
      "Extracting MNIST_data/train-labels-idx1-ubyte.gz\n",
      "Extracting MNIST_data/t10k-images-idx3-ubyte.gz\n",
      "Extracting MNIST_data/t10k-labels-idx1-ubyte.gz\n"
     ]
    }
   ],
   "source": [
    "from tensorflow.examples.tutorials.mnist import input_data\n",
    "mnist = input_data.read_data_sets(\"MNIST_data/\", one_hot = True)\n",
    "\n",
    "# Model preparation\n",
    "learning_rate = 0.001\n",
    "training_epochs = 15\n",
    "batch_size = 100\n",
    "display_step = 1\n",
    "\n",
    "n_hidden_1 = 256 # 1st layer number of features\n",
    "n_hidden_2 = 256 # 2nd layer number of features\n",
    "n_input = 784\n",
    "n_classes = 10\n",
    "x = tf.placeholder(\"float\", [None, n_input])\n",
    "y = tf.placeholder(\"float\", [None, n_classes])\n",
    "def multilayer_perceptron(x, weights, biases):\n",
    "    layer_1 = tf.nn.relu(tf.add(tf.matmul(x, weights[\"h1\"]), biases[\"b1\"])) # ReLU\n",
    "    layer_2 = tf.nn.relu(tf.add(tf.matmul(layer_1, weights[\"h2\"]), biases[\"b2\"])) # ReLU\n",
    "    out_layer = tf.matmul(layer_2, weights[\"out\"]) + biases[\"out\"] # Purely linear activation\n",
    "    return out_layer"
   ]
  },
  {
   "cell_type": "code",
   "execution_count": 9,
   "metadata": {
    "collapsed": true
   },
   "outputs": [],
   "source": [
    "# Model initialization\n",
    "weights = {\n",
    "    \"h1\": tf.Variable(tf.random_normal([n_input, n_hidden_1])),\n",
    "    \"h2\": tf.Variable(tf.random_normal([n_hidden_1, n_hidden_2])),\n",
    "    \"out\": tf.Variable(tf.random_normal([n_hidden_2, n_classes]))\n",
    "}\n",
    "\n",
    "biases = {\n",
    "    \"b1\": tf.Variable(tf.random_normal([n_hidden_1])),\n",
    "    \"b2\": tf.Variable(tf.random_normal([n_hidden_2])),\n",
    "    \"out\": tf.Variable(tf.random_normal([n_classes]))\n",
    "}\n",
    "pred = multilayer_perceptron(x, weights, biases)\n",
    "cost = tf.reduce_mean(tf.nn.softmax_cross_entropy_with_logits(logits = pred, labels = y))\n",
    "optimizer = tf.train.AdamOptimizer(learning_rate=learning_rate).minimize(cost)\n",
    "init = tf.global_variables_initializer()"
   ]
  },
  {
   "cell_type": "code",
   "execution_count": 11,
   "metadata": {
    "collapsed": false
   },
   "outputs": [
    {
     "name": "stdout",
     "output_type": "stream",
     "text": [
      "Epoch: 0001 cost= 152.540153327\n",
      "Epoch: 0002 cost= 40.969139039\n",
      "Epoch: 0003 cost= 25.576778047\n",
      "Epoch: 0004 cost= 17.494725654\n",
      "Epoch: 0005 cost= 12.491557414\n",
      "Epoch: 0006 cost= 9.297886864\n",
      "Epoch: 0007 cost= 6.767272083\n",
      "Epoch: 0008 cost= 4.923767798\n",
      "Epoch: 0009 cost= 3.683918091\n",
      "Epoch: 0010 cost= 2.718031013\n",
      "Epoch: 0011 cost= 1.946386597\n",
      "Epoch: 0012 cost= 1.530443200\n",
      "Epoch: 0013 cost= 1.122690888\n",
      "Epoch: 0014 cost= 0.903676396\n",
      "Epoch: 0015 cost= 0.749515452\n",
      "Optimization Finished!\n",
      "Accuracy: 0.9468\n"
     ]
    }
   ],
   "source": [
    "with tf.Session() as sess:\n",
    "    sess.run(init)\n",
    "    for epoch in range(training_epochs):\n",
    "        avg_cost = 0.\n",
    "        total_batch = int(mnist.train.num_examples / batch_size)\n",
    "        for i in range(total_batch):\n",
    "            batch_x, batch_y = mnist.train.next_batch(batch_size)\n",
    "            _, c = sess.run([optimizer, cost], feed_dict={x: batch_x, y: batch_y})\n",
    "            avg_cost += c / total_batch\n",
    "        # Display logs per epoch step\n",
    "        if epoch % display_step == 0:\n",
    "            print(\"Epoch:\", '%04d' % (epoch+1), \"cost=\", \"{:.9f}\".format(avg_cost))\n",
    "    print(\"Optimization Finished!\")\n",
    "    \n",
    "    # Test model\n",
    "    correct_prediction = tf.equal(tf.argmax(pred, 1), tf.argmax(y, 1))\n",
    "    # Calculate accuracy\n",
    "    accuracy = tf.reduce_mean(tf.cast(correct_prediction, \"float\"))\n",
    "    print(\"Accuracy:\", accuracy.eval({x: mnist.test.images, y: mnist.test.labels}))"
   ]
  },
  {
   "cell_type": "code",
   "execution_count": null,
   "metadata": {
    "collapsed": true
   },
   "outputs": [],
   "source": []
  }
 ],
 "metadata": {
  "kernelspec": {
   "display_name": "Python 3",
   "language": "python",
   "name": "python3"
  },
  "language_info": {
   "codemirror_mode": {
    "name": "ipython",
    "version": 3
   },
   "file_extension": ".py",
   "mimetype": "text/x-python",
   "name": "python",
   "nbconvert_exporter": "python",
   "pygments_lexer": "ipython3",
   "version": "3.6.0"
  }
 },
 "nbformat": 4,
 "nbformat_minor": 2
}
