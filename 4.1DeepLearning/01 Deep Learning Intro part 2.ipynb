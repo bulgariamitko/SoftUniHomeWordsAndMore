{
 "cells": [
  {
   "cell_type": "code",
   "execution_count": 1,
   "metadata": {
    "collapsed": true
   },
   "outputs": [],
   "source": [
    "%matplotlib inline\n",
    "import numpy as np\n",
    "import pandas as pd\n",
    "import matplotlib.pyplot as plt\n",
    "import tensorflow as tf"
   ]
  },
  {
   "cell_type": "code",
   "execution_count": 2,
   "metadata": {
    "collapsed": true
   },
   "outputs": [],
   "source": [
    "def simulate_points(a, b, max_noise):\n",
    "    x = np.linspace(-3, 3, 20)\n",
    "    y = a * x + b\n",
    "    y_noise = np.random.uniform(-max_noise, max_noise, 20)\n",
    "    y += y_noise\n",
    "    return (x, y)"
   ]
  },
  {
   "cell_type": "code",
   "execution_count": 3,
   "metadata": {
    "collapsed": true
   },
   "outputs": [],
   "source": [
    "(x, y) = simulate_points(3, 5, 4)"
   ]
  },
  {
   "cell_type": "code",
   "execution_count": 4,
   "metadata": {
    "collapsed": true
   },
   "outputs": [],
   "source": [
    "x_placeholder = tf.placeholder(tf.float32, [None], name=\"x\")\n",
    "y_placeholder = tf.placeholder(tf.float32, [None], name=\"y\")"
   ]
  },
  {
   "cell_type": "code",
   "execution_count": 5,
   "metadata": {
    "collapsed": true
   },
   "outputs": [],
   "source": [
    "a = tf.Variable(tf.truncated_normal([]), name=\"a\")\n",
    "b = tf.Variable(tf.constant(0, dtype=tf.float32), name=\"b\")"
   ]
  },
  {
   "cell_type": "code",
   "execution_count": 6,
   "metadata": {
    "collapsed": true
   },
   "outputs": [],
   "source": [
    "y_hat = tf.multiply(a, x_placeholder) + b # y = a * x + b\n",
    "error = tf.reduce_mean(tf.square(y_hat - y_placeholder), name = \"MSE\")"
   ]
  },
  {
   "cell_type": "code",
   "execution_count": 7,
   "metadata": {
    "collapsed": true
   },
   "outputs": [],
   "source": [
    "train = tf.train.GradientDescentOptimizer(0.05).minimize(error)\n",
    "init = tf.global_variables_initializer()"
   ]
  },
  {
   "cell_type": "code",
   "execution_count": 16,
   "metadata": {
    "collapsed": false,
    "scrolled": true
   },
   "outputs": [
    {
     "name": "stdout",
     "output_type": "stream",
     "text": [
      "0:\tMSE: 58.667\n",
      "1:\tMSE: 37.091\n",
      "2:\tMSE: 25.877\n",
      "3:\tMSE: 19.593\n",
      "4:\tMSE: 15.753\n",
      "5:\tMSE: 13.201\n",
      "6:\tMSE: 11.384\n",
      "7:\tMSE: 10.024\n",
      "8:\tMSE: 8.971\n",
      "9:\tMSE: 8.141\n",
      "10:\tMSE: 7.479\n",
      "11:\tMSE: 6.947\n",
      "12:\tMSE: 6.518\n",
      "13:\tMSE: 6.171\n",
      "14:\tMSE: 5.891\n",
      "15:\tMSE: 5.664\n",
      "16:\tMSE: 5.480\n",
      "17:\tMSE: 5.332\n",
      "18:\tMSE: 5.211\n",
      "19:\tMSE: 5.113\n",
      "20:\tMSE: 5.034\n",
      "21:\tMSE: 4.970\n",
      "22:\tMSE: 4.919\n",
      "23:\tMSE: 4.877\n",
      "24:\tMSE: 4.843\n",
      "25:\tMSE: 4.815\n",
      "26:\tMSE: 4.793\n",
      "27:\tMSE: 4.775\n",
      "28:\tMSE: 4.760\n",
      "29:\tMSE: 4.748\n",
      "30:\tMSE: 4.738\n",
      "31:\tMSE: 4.731\n",
      "32:\tMSE: 4.724\n",
      "33:\tMSE: 4.719\n",
      "34:\tMSE: 4.715\n",
      "35:\tMSE: 4.712\n",
      "36:\tMSE: 4.709\n",
      "37:\tMSE: 4.707\n",
      "38:\tMSE: 4.705\n",
      "39:\tMSE: 4.704\n",
      "40:\tMSE: 4.702\n",
      "41:\tMSE: 4.702\n",
      "42:\tMSE: 4.701\n",
      "43:\tMSE: 4.700\n",
      "44:\tMSE: 4.700\n",
      "45:\tMSE: 4.699\n",
      "46:\tMSE: 4.699\n",
      "47:\tMSE: 4.699\n",
      "48:\tMSE: 4.698\n",
      "49:\tMSE: 4.698\n"
     ]
    }
   ],
   "source": [
    "sess = tf.Session()\n",
    "sess.run(init)\n",
    "x_test = np.array([-0.5, 0.0, 5.0])\n",
    "test_dict = { x_placeholder: x_test }\n",
    "snapshots = []\n",
    "\n",
    "for i in range(50):\n",
    "    feed_dict = {\n",
    "        x_placeholder: x, # from our sample generating function\n",
    "        y_placeholder: y # from our sample generating function\n",
    "    }\n",
    "    err, _ = sess.run([error, train], feed_dict = feed_dict)\n",
    "    if i in [0, 1, 4, 10, 49,99]: #Steps we're interested in\n",
    "        y_test = sess.run(y_hat, feed_dict = test_dict)\n",
    "        snapshots.append((i, y_test))\n",
    "    print(str(i) + \":\\tMSE: %.3f\" % err)"
   ]
  },
  {
   "cell_type": "code",
   "execution_count": 17,
   "metadata": {
    "collapsed": false
   },
   "outputs": [
    {
     "data": {
      "image/png": "[encoded data removed]",
      "text/plain": [
       "<matplotlib.figure.Figure at 0x7f728d8b85c0>"
      ]
     },
     "metadata": {},
     "output_type": "display_data"
    },
    {
     "data": {
      "image/png": "[encoded data removed]",
      "text/plain": [
       "<matplotlib.figure.Figure at 0x7f728d920438>"
      ]
     },
     "metadata": {},
     "output_type": "display_data"
    },
    {
     "data": {
      "image/png": "[encoded data removed]",
      "text/plain": [
       "<matplotlib.figure.Figure at 0x7f728c740278>"
      ]
     },
     "metadata": {},
     "output_type": "display_data"
    },
    {
     "data": {
      "image/png": "[encoded data removed]",
      "text/plain": [
       "<matplotlib.figure.Figure at 0x7f728c77d7b8>"
      ]
     },
     "metadata": {},
     "output_type": "display_data"
    },
    {
     "data": {
      "image/png": "[encoded data removed]",
      "text/plain": [
       "<matplotlib.figure.Figure at 0x7f728c7c47b8>"
      ]
     },
     "metadata": {},
     "output_type": "display_data"
    }
   ],
   "source": [
    "for i, pair in enumerate(snapshots):\n",
    "    step, y_test = pair\n",
    "    plt.figure(i)\n",
    "    plt.title(\"Step: \" + str(step))\n",
    "    plt.scatter(x, y)\n",
    "    plt.plot(x_test, y_test)\n",
    "    plt.show()"
   ]
  },
  {
   "cell_type": "code",
   "execution_count": 18,
   "metadata": {
    "collapsed": true
   },
   "outputs": [],
   "source": [
    "### new filed"
   ]
  },
  {
   "cell_type": "code",
   "execution_count": 22,
   "metadata": {
    "collapsed": false
   },
   "outputs": [
    {
     "name": "stderr",
     "output_type": "stream",
     "text": [
      "/home/dimitar/anaconda3/lib/python3.6/site-packages/ipykernel/__main__.py:1: ParserWarning: Falling back to the 'python' engine because the 'c' engine does not support regex separators (separators > 1 char and different from '\\s+' are interpreted as regex); you can avoid this warning by specifying engine='python'.\n",
      "  if __name__ == '__main__':\n"
     ]
    }
   ],
   "source": [
    "adult_income = (pd.read_csv(\"https://archive.ics.uci.edu/ml/machine-learning-databases/adult/adult.data\", header= None, sep=\", \"))"
   ]
  },
  {
   "cell_type": "code",
   "execution_count": 24,
   "metadata": {
    "collapsed": true
   },
   "outputs": [],
   "source": [
    "adult_income.columns = [\"age\", \"workclass\", \"fnlwgt\", \"education\", \"education-num\", \"marital-status\", \"occupation\", \"relationship\", \"race\", \"sex\", \"capital-gain\", \"capital-loss\", \"hours-per-week\", \"native-country\", \"income\"]"
   ]
  },
  {
   "cell_type": "code",
   "execution_count": 25,
   "metadata": {
    "collapsed": false
   },
   "outputs": [
    {
     "data": {
      "text/html": [
       "<div>\n",
       "<table border=\"1\" class=\"dataframe\">\n",
       "  <thead>\n",
       "    <tr style=\"text-align: right;\">\n",
       "      <th></th>\n",
       "      <th>age</th>\n",
       "      <th>workclass</th>\n",
       "      <th>fnlwgt</th>\n",
       "      <th>education</th>\n",
       "      <th>education-num</th>\n",
       "      <th>marital-status</th>\n",
       "      <th>occupation</th>\n",
       "      <th>relationship</th>\n",
       "      <th>race</th>\n",
       "      <th>sex</th>\n",
       "      <th>capital-gain</th>\n",
       "      <th>capital-loss</th>\n",
       "      <th>hours-per-week</th>\n",
       "      <th>native-country</th>\n",
       "      <th>income</th>\n",
       "    </tr>\n",
       "  </thead>\n",
       "  <tbody>\n",
       "    <tr>\n",
       "      <th>0</th>\n",
       "      <td>39</td>\n",
       "      <td>State-gov</td>\n",
       "      <td>77516</td>\n",
       "      <td>Bachelors</td>\n",
       "      <td>13</td>\n",
       "      <td>Never-married</td>\n",
       "      <td>Adm-clerical</td>\n",
       "      <td>Not-in-family</td>\n",
       "      <td>White</td>\n",
       "      <td>Male</td>\n",
       "      <td>2174</td>\n",
       "      <td>0</td>\n",
       "      <td>40</td>\n",
       "      <td>United-States</td>\n",
       "      <td>&lt;=50K</td>\n",
       "    </tr>\n",
       "    <tr>\n",
       "      <th>1</th>\n",
       "      <td>50</td>\n",
       "      <td>Self-emp-not-inc</td>\n",
       "      <td>83311</td>\n",
       "      <td>Bachelors</td>\n",
       "      <td>13</td>\n",
       "      <td>Married-civ-spouse</td>\n",
       "      <td>Exec-managerial</td>\n",
       "      <td>Husband</td>\n",
       "      <td>White</td>\n",
       "      <td>Male</td>\n",
       "      <td>0</td>\n",
       "      <td>0</td>\n",
       "      <td>13</td>\n",
       "      <td>United-States</td>\n",
       "      <td>&lt;=50K</td>\n",
       "    </tr>\n",
       "    <tr>\n",
       "      <th>2</th>\n",
       "      <td>38</td>\n",
       "      <td>Private</td>\n",
       "      <td>215646</td>\n",
       "      <td>HS-grad</td>\n",
       "      <td>9</td>\n",
       "      <td>Divorced</td>\n",
       "      <td>Handlers-cleaners</td>\n",
       "      <td>Not-in-family</td>\n",
       "      <td>White</td>\n",
       "      <td>Male</td>\n",
       "      <td>0</td>\n",
       "      <td>0</td>\n",
       "      <td>40</td>\n",
       "      <td>United-States</td>\n",
       "      <td>&lt;=50K</td>\n",
       "    </tr>\n",
       "    <tr>\n",
       "      <th>3</th>\n",
       "      <td>53</td>\n",
       "      <td>Private</td>\n",
       "      <td>234721</td>\n",
       "      <td>11th</td>\n",
       "      <td>7</td>\n",
       "      <td>Married-civ-spouse</td>\n",
       "      <td>Handlers-cleaners</td>\n",
       "      <td>Husband</td>\n",
       "      <td>Black</td>\n",
       "      <td>Male</td>\n",
       "      <td>0</td>\n",
       "      <td>0</td>\n",
       "      <td>40</td>\n",
       "      <td>United-States</td>\n",
       "      <td>&lt;=50K</td>\n",
       "    </tr>\n",
       "    <tr>\n",
       "      <th>4</th>\n",
       "      <td>28</td>\n",
       "      <td>Private</td>\n",
       "      <td>338409</td>\n",
       "      <td>Bachelors</td>\n",
       "      <td>13</td>\n",
       "      <td>Married-civ-spouse</td>\n",
       "      <td>Prof-specialty</td>\n",
       "      <td>Wife</td>\n",
       "      <td>Black</td>\n",
       "      <td>Female</td>\n",
       "      <td>0</td>\n",
       "      <td>0</td>\n",
       "      <td>40</td>\n",
       "      <td>Cuba</td>\n",
       "      <td>&lt;=50K</td>\n",
       "    </tr>\n",
       "  </tbody>\n",
       "</table>\n",
       "</div>"
      ],
      "text/plain": [
       "   age         workclass  fnlwgt  education  education-num  \\\n",
       "0   39         State-gov   77516  Bachelors             13   \n",
       "1   50  Self-emp-not-inc   83311  Bachelors             13   \n",
       "2   38           Private  215646    HS-grad              9   \n",
       "3   53           Private  234721       11th              7   \n",
       "4   28           Private  338409  Bachelors             13   \n",
       "\n",
       "       marital-status         occupation   relationship   race     sex  \\\n",
       "0       Never-married       Adm-clerical  Not-in-family  White    Male   \n",
       "1  Married-civ-spouse    Exec-managerial        Husband  White    Male   \n",
       "2            Divorced  Handlers-cleaners  Not-in-family  White    Male   \n",
       "3  Married-civ-spouse  Handlers-cleaners        Husband  Black    Male   \n",
       "4  Married-civ-spouse     Prof-specialty           Wife  Black  Female   \n",
       "\n",
       "   capital-gain  capital-loss  hours-per-week native-country income  \n",
       "0          2174             0              40  United-States  <=50K  \n",
       "1             0             0              13  United-States  <=50K  \n",
       "2             0             0              40  United-States  <=50K  \n",
       "3             0             0              40  United-States  <=50K  \n",
       "4             0             0              40           Cuba  <=50K  "
      ]
     },
     "execution_count": 25,
     "metadata": {},
     "output_type": "execute_result"
    }
   ],
   "source": [
    "adult_income.head()"
   ]
  },
  {
   "cell_type": "code",
   "execution_count": 28,
   "metadata": {
    "collapsed": false
   },
   "outputs": [
    {
     "data": {
      "image/png": "[encoded data removed]",
      "text/plain": [
       "<matplotlib.figure.Figure at 0x7f728c524908>"
      ]
     },
     "metadata": {},
     "output_type": "display_data"
    }
   ],
   "source": [
    "plt.hist(adult_income[\"capital-gain\"][adult_income[\"capital-gain\"] < 15000])\n",
    "plt.show()"
   ]
  },
  {
   "cell_type": "code",
   "execution_count": 29,
   "metadata": {
    "collapsed": false
   },
   "outputs": [
    {
     "data": {
      "image/png": "[encoded data removed]",
      "text/plain": [
       "<matplotlib.figure.Figure at 0x7f7268a32a90>"
      ]
     },
     "metadata": {},
     "output_type": "display_data"
    }
   ],
   "source": [
    "income = adult_income[\"capital-gain\"][adult_income[\"capital-gain\"] > 0]\n",
    "plt.hist(np.log10(income))\n",
    "plt.show()"
   ]
  },
  {
   "cell_type": "code",
   "execution_count": 36,
   "metadata": {
    "collapsed": false
   },
   "outputs": [
    {
     "name": "stdout",
     "output_type": "stream",
     "text": [
      "32561\n",
      "24720\n"
     ]
    }
   ],
   "source": [
    "print(len(adult_income[\"income\"]))\n",
    "print(len(adult_income[adult_income[\"income\"] == \"<=50K\"]))"
   ]
  },
  {
   "cell_type": "code",
   "execution_count": 37,
   "metadata": {
    "collapsed": true
   },
   "outputs": [],
   "source": [
    "adult_income_dummies = pd.get_dummies(adult_income)"
   ]
  },
  {
   "cell_type": "code",
   "execution_count": 38,
   "metadata": {
    "collapsed": false
   },
   "outputs": [
    {
     "data": {
      "text/html": [
       "<div>\n",
       "<table border=\"1\" class=\"dataframe\">\n",
       "  <thead>\n",
       "    <tr style=\"text-align: right;\">\n",
       "      <th></th>\n",
       "      <th>age</th>\n",
       "      <th>fnlwgt</th>\n",
       "      <th>education-num</th>\n",
       "      <th>capital-gain</th>\n",
       "      <th>capital-loss</th>\n",
       "      <th>hours-per-week</th>\n",
       "      <th>workclass_?</th>\n",
       "      <th>workclass_Federal-gov</th>\n",
       "      <th>workclass_Local-gov</th>\n",
       "      <th>workclass_Never-worked</th>\n",
       "      <th>...</th>\n",
       "      <th>native-country_Scotland</th>\n",
       "      <th>native-country_South</th>\n",
       "      <th>native-country_Taiwan</th>\n",
       "      <th>native-country_Thailand</th>\n",
       "      <th>native-country_Trinadad&amp;Tobago</th>\n",
       "      <th>native-country_United-States</th>\n",
       "      <th>native-country_Vietnam</th>\n",
       "      <th>native-country_Yugoslavia</th>\n",
       "      <th>income_&lt;=50K</th>\n",
       "      <th>income_&gt;50K</th>\n",
       "    </tr>\n",
       "  </thead>\n",
       "  <tbody>\n",
       "    <tr>\n",
       "      <th>0</th>\n",
       "      <td>39</td>\n",
       "      <td>77516</td>\n",
       "      <td>13</td>\n",
       "      <td>2174</td>\n",
       "      <td>0</td>\n",
       "      <td>40</td>\n",
       "      <td>0</td>\n",
       "      <td>0</td>\n",
       "      <td>0</td>\n",
       "      <td>0</td>\n",
       "      <td>...</td>\n",
       "      <td>0</td>\n",
       "      <td>0</td>\n",
       "      <td>0</td>\n",
       "      <td>0</td>\n",
       "      <td>0</td>\n",
       "      <td>1</td>\n",
       "      <td>0</td>\n",
       "      <td>0</td>\n",
       "      <td>1</td>\n",
       "      <td>0</td>\n",
       "    </tr>\n",
       "    <tr>\n",
       "      <th>1</th>\n",
       "      <td>50</td>\n",
       "      <td>83311</td>\n",
       "      <td>13</td>\n",
       "      <td>0</td>\n",
       "      <td>0</td>\n",
       "      <td>13</td>\n",
       "      <td>0</td>\n",
       "      <td>0</td>\n",
       "      <td>0</td>\n",
       "      <td>0</td>\n",
       "      <td>...</td>\n",
       "      <td>0</td>\n",
       "      <td>0</td>\n",
       "      <td>0</td>\n",
       "      <td>0</td>\n",
       "      <td>0</td>\n",
       "      <td>1</td>\n",
       "      <td>0</td>\n",
       "      <td>0</td>\n",
       "      <td>1</td>\n",
       "      <td>0</td>\n",
       "    </tr>\n",
       "    <tr>\n",
       "      <th>2</th>\n",
       "      <td>38</td>\n",
       "      <td>215646</td>\n",
       "      <td>9</td>\n",
       "      <td>0</td>\n",
       "      <td>0</td>\n",
       "      <td>40</td>\n",
       "      <td>0</td>\n",
       "      <td>0</td>\n",
       "      <td>0</td>\n",
       "      <td>0</td>\n",
       "      <td>...</td>\n",
       "      <td>0</td>\n",
       "      <td>0</td>\n",
       "      <td>0</td>\n",
       "      <td>0</td>\n",
       "      <td>0</td>\n",
       "      <td>1</td>\n",
       "      <td>0</td>\n",
       "      <td>0</td>\n",
       "      <td>1</td>\n",
       "      <td>0</td>\n",
       "    </tr>\n",
       "    <tr>\n",
       "      <th>3</th>\n",
       "      <td>53</td>\n",
       "      <td>234721</td>\n",
       "      <td>7</td>\n",
       "      <td>0</td>\n",
       "      <td>0</td>\n",
       "      <td>40</td>\n",
       "      <td>0</td>\n",
       "      <td>0</td>\n",
       "      <td>0</td>\n",
       "      <td>0</td>\n",
       "      <td>...</td>\n",
       "      <td>0</td>\n",
       "      <td>0</td>\n",
       "      <td>0</td>\n",
       "      <td>0</td>\n",
       "      <td>0</td>\n",
       "      <td>1</td>\n",
       "      <td>0</td>\n",
       "      <td>0</td>\n",
       "      <td>1</td>\n",
       "      <td>0</td>\n",
       "    </tr>\n",
       "    <tr>\n",
       "      <th>4</th>\n",
       "      <td>28</td>\n",
       "      <td>338409</td>\n",
       "      <td>13</td>\n",
       "      <td>0</td>\n",
       "      <td>0</td>\n",
       "      <td>40</td>\n",
       "      <td>0</td>\n",
       "      <td>0</td>\n",
       "      <td>0</td>\n",
       "      <td>0</td>\n",
       "      <td>...</td>\n",
       "      <td>0</td>\n",
       "      <td>0</td>\n",
       "      <td>0</td>\n",
       "      <td>0</td>\n",
       "      <td>0</td>\n",
       "      <td>0</td>\n",
       "      <td>0</td>\n",
       "      <td>0</td>\n",
       "      <td>1</td>\n",
       "      <td>0</td>\n",
       "    </tr>\n",
       "  </tbody>\n",
       "</table>\n",
       "<p>5 rows × 110 columns</p>\n",
       "</div>"
      ],
      "text/plain": [
       "   age  fnlwgt  education-num  capital-gain  capital-loss  hours-per-week  \\\n",
       "0   39   77516             13          2174             0              40   \n",
       "1   50   83311             13             0             0              13   \n",
       "2   38  215646              9             0             0              40   \n",
       "3   53  234721              7             0             0              40   \n",
       "4   28  338409             13             0             0              40   \n",
       "\n",
       "   workclass_?  workclass_Federal-gov  workclass_Local-gov  \\\n",
       "0            0                      0                    0   \n",
       "1            0                      0                    0   \n",
       "2            0                      0                    0   \n",
       "3            0                      0                    0   \n",
       "4            0                      0                    0   \n",
       "\n",
       "   workclass_Never-worked     ...       native-country_Scotland  \\\n",
       "0                       0     ...                             0   \n",
       "1                       0     ...                             0   \n",
       "2                       0     ...                             0   \n",
       "3                       0     ...                             0   \n",
       "4                       0     ...                             0   \n",
       "\n",
       "   native-country_South  native-country_Taiwan  native-country_Thailand  \\\n",
       "0                     0                      0                        0   \n",
       "1                     0                      0                        0   \n",
       "2                     0                      0                        0   \n",
       "3                     0                      0                        0   \n",
       "4                     0                      0                        0   \n",
       "\n",
       "   native-country_Trinadad&Tobago  native-country_United-States  \\\n",
       "0                               0                             1   \n",
       "1                               0                             1   \n",
       "2                               0                             1   \n",
       "3                               0                             1   \n",
       "4                               0                             0   \n",
       "\n",
       "   native-country_Vietnam  native-country_Yugoslavia  income_<=50K  \\\n",
       "0                       0                          0             1   \n",
       "1                       0                          0             1   \n",
       "2                       0                          0             1   \n",
       "3                       0                          0             1   \n",
       "4                       0                          0             1   \n",
       "\n",
       "   income_>50K  \n",
       "0            0  \n",
       "1            0  \n",
       "2            0  \n",
       "3            0  \n",
       "4            0  \n",
       "\n",
       "[5 rows x 110 columns]"
      ]
     },
     "execution_count": 38,
     "metadata": {},
     "output_type": "execute_result"
    }
   ],
   "source": [
    "adult_income_dummies.head()"
   ]
  },
  {
   "cell_type": "code",
   "execution_count": 39,
   "metadata": {
    "collapsed": true
   },
   "outputs": [],
   "source": [
    "### MINST"
   ]
  },
  {
   "cell_type": "code",
   "execution_count": 40,
   "metadata": {
    "collapsed": false
   },
   "outputs": [
    {
     "name": "stdout",
     "output_type": "stream",
     "text": [
      "Successfully downloaded train-images-idx3-ubyte.gz 9912422 bytes.\n",
      "Extracting MNIST_data/train-images-idx3-ubyte.gz\n",
      "Successfully downloaded train-labels-idx1-ubyte.gz 28881 bytes.\n",
      "Extracting MNIST_data/train-labels-idx1-ubyte.gz\n",
      "Successfully downloaded t10k-images-idx3-ubyte.gz 1648877 bytes.\n",
      "Extracting MNIST_data/t10k-images-idx3-ubyte.gz\n",
      "Successfully downloaded t10k-labels-idx1-ubyte.gz 4542 bytes.\n",
      "Extracting MNIST_data/t10k-labels-idx1-ubyte.gz\n"
     ]
    }
   ],
   "source": [
    "from tensorflow.examples.tutorials.mnist import input_data\n",
    "mnist = input_data.read_data_sets('MNIST_data/', one_hot=True)"
   ]
  },
  {
   "cell_type": "code",
   "execution_count": 41,
   "metadata": {
    "collapsed": true
   },
   "outputs": [],
   "source": [
    "X = tf.placeholder(tf.float32, [None, 784]) # (28 * 28)-pixel images\n",
    "Y = tf.placeholder(tf.float32, [None, 10]) # 10 classes"
   ]
  },
  {
   "cell_type": "code",
   "execution_count": 42,
   "metadata": {
    "collapsed": true
   },
   "outputs": [],
   "source": [
    "a = tf.Variable(tf.zeros([784, 10]) , name = \"weight\") # matrix\n",
    "b = tf.Variable(tf.zeros([10]) , name = \"bias\") #vector"
   ]
  },
  {
   "cell_type": "code",
   "execution_count": 50,
   "metadata": {
    "collapsed": true
   },
   "outputs": [],
   "source": [
    "pred = tf.nn.softmax(tf.matmul(X, a) + b)\n",
    "cost = tf.reduce_mean(-tf.reduce_sum(Y * tf.log(pred) , axis=1))\n",
    "correct_prediction = tf.equal(tf.argmax(pred, axis=1), tf.argmax(Y, axis = 1))\n",
    "accuracy = tf.reduce_mean(tf.cast(correct_prediction, tf.float32))"
   ]
  },
  {
   "cell_type": "code",
   "execution_count": 51,
   "metadata": {
    "collapsed": true
   },
   "outputs": [],
   "source": [
    "optimizer = tf.train.GradientDescentOptimizer(learning_rate = 0.01).minimize(cost)\n",
    "init = tf.global_variables_initializer()"
   ]
  },
  {
   "cell_type": "code",
   "execution_count": 52,
   "metadata": {
    "collapsed": false
   },
   "outputs": [
    {
     "name": "stdout",
     "output_type": "stream",
     "text": [
      "Epoch =  0  Cost =  0.831403\n",
      "Accuracy: 0.8444\n",
      "Epoch =  1  Cost =  0.705632\n",
      "Accuracy: 0.8676\n",
      "Epoch =  2  Cost =  0.524704\n",
      "Accuracy: 0.8769\n",
      "Epoch =  3  Cost =  0.457803\n",
      "Accuracy: 0.8825\n",
      "Epoch =  4  Cost =  0.434139\n",
      "Accuracy: 0.8868\n",
      "Epoch =  5  Cost =  0.453901\n",
      "Accuracy: 0.8906\n",
      "Epoch =  6  Cost =  0.480056\n",
      "Accuracy: 0.8926\n",
      "Epoch =  7  Cost =  0.300369\n",
      "Accuracy: 0.8964\n",
      "Epoch =  8  Cost =  0.439031\n",
      "Accuracy: 0.8978\n",
      "Epoch =  9  Cost =  0.48996\n",
      "Accuracy: 0.8993\n",
      "Epoch =  10  Cost =  0.293558\n",
      "Accuracy: 0.901\n",
      "Epoch =  11  Cost =  0.307404\n",
      "Accuracy: 0.9018\n",
      "Epoch =  12  Cost =  0.569749\n",
      "Accuracy: 0.9027\n",
      "Epoch =  13  Cost =  0.359434\n",
      "Accuracy: 0.9051\n",
      "Epoch =  14  Cost =  0.390629\n",
      "Accuracy: 0.9051\n",
      "Epoch =  15  Cost =  0.367115\n",
      "Accuracy: 0.906\n",
      "Epoch =  16  Cost =  0.34339\n",
      "Accuracy: 0.9071\n",
      "Epoch =  17  Cost =  0.301629\n",
      "Accuracy: 0.9072\n",
      "Epoch =  18  Cost =  0.429102\n",
      "Accuracy: 0.9081\n",
      "Epoch =  19  Cost =  0.467576\n",
      "Accuracy: 0.9089\n",
      "Epoch =  20  Cost =  0.22598\n",
      "Accuracy: 0.9091\n",
      "Epoch =  21  Cost =  0.37853\n",
      "Accuracy: 0.9102\n",
      "Epoch =  22  Cost =  0.472264\n",
      "Accuracy: 0.9106\n",
      "Epoch =  23  Cost =  0.275689\n",
      "Accuracy: 0.9104\n",
      "Epoch =  24  Cost =  0.46743\n",
      "Accuracy: 0.9115\n",
      "Epoch =  25  Cost =  0.341431\n",
      "Accuracy: 0.9117\n",
      "Epoch =  26  Cost =  0.321771\n",
      "Accuracy: 0.9121\n",
      "Epoch =  27  Cost =  0.487384\n",
      "Accuracy: 0.9128\n",
      "Epoch =  28  Cost =  0.375868\n",
      "Accuracy: 0.913\n",
      "Epoch =  29  Cost =  0.279232\n",
      "Accuracy: 0.913\n",
      "Epoch =  30  Cost =  0.504998\n",
      "Accuracy: 0.914\n",
      "Epoch =  31  Cost =  0.361148\n",
      "Accuracy: 0.9142\n",
      "Epoch =  32  Cost =  0.421594\n",
      "Accuracy: 0.914\n",
      "Epoch =  33  Cost =  0.341357\n",
      "Accuracy: 0.9141\n",
      "Epoch =  34  Cost =  0.370408\n",
      "Accuracy: 0.9147\n",
      "Epoch =  35  Cost =  0.292962\n",
      "Accuracy: 0.9145\n",
      "Epoch =  36  Cost =  0.237674\n",
      "Accuracy: 0.9151\n",
      "Epoch =  37  Cost =  0.34892\n",
      "Accuracy: 0.9156\n",
      "Epoch =  38  Cost =  0.346583\n",
      "Accuracy: 0.9161\n",
      "Epoch =  39  Cost =  0.285307\n",
      "Accuracy: 0.9165\n",
      "Epoch =  40  Cost =  0.358741\n",
      "Accuracy: 0.9162\n",
      "Epoch =  41  Cost =  0.277039\n",
      "Accuracy: 0.9161\n",
      "Epoch =  42  Cost =  0.296312\n",
      "Accuracy: 0.916\n",
      "Epoch =  43  Cost =  0.338742\n",
      "Accuracy: 0.9166\n",
      "Epoch =  44  Cost =  0.367586\n",
      "Accuracy: 0.9166\n",
      "Epoch =  45  Cost =  0.254679\n",
      "Accuracy: 0.9172\n",
      "Epoch =  46  Cost =  0.221047\n",
      "Accuracy: 0.9169\n",
      "Epoch =  47  Cost =  0.274421\n",
      "Accuracy: 0.9175\n",
      "Epoch =  48  Cost =  0.383947\n",
      "Accuracy: 0.9176\n",
      "Epoch =  49  Cost =  0.304371\n",
      "Accuracy: 0.9171\n",
      "Optimization Finished\n"
     ]
    }
   ],
   "source": [
    "batch_size = 128\n",
    "with tf.Session() as sess:\n",
    "    sess.run(init)\n",
    "    for epoch in range(50):\n",
    "        avg_cost = 0\n",
    "        total_batch = int(mnist.train.num_examples / batch_size)\n",
    "        for batch in range(total_batch):\n",
    "            train_x, train_y = mnist.train.next_batch(batch_size = batch_size)\n",
    "            o, c = sess.run([optimizer, cost], feed_dict = {X: train_x, Y: train_y})\n",
    "            avg_cost += c/ total_batch\n",
    "        print (\"Epoch = \", epoch, \" Cost = \", c)\n",
    "        print (\"Accuracy:\", accuracy.eval(feed_dict = { X: mnist.test.images, Y: mnist.test.labels }))\n",
    "print (\"Optimization Finished\")"
   ]
  },
  {
   "cell_type": "code",
   "execution_count": null,
   "metadata": {
    "collapsed": true
   },
   "outputs": [],
   "source": []
  }
 ],
 "metadata": {
  "kernelspec": {
   "display_name": "Python 3",
   "language": "python",
   "name": "python3"
  },
  "language_info": {
   "codemirror_mode": {
    "name": "ipython",
    "version": 3
   },
   "file_extension": ".py",
   "mimetype": "text/x-python",
   "name": "python",
   "nbconvert_exporter": "python",
   "pygments_lexer": "ipython3",
   "version": "3.6.0"
  }
 },
 "nbformat": 4,
 "nbformat_minor": 2
}
